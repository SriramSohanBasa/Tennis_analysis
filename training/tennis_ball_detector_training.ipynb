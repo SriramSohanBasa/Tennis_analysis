{
 "cells": [
  {
   "cell_type": "markdown",
   "metadata": {},
   "source": [
    "\n",
    "get dataset\n"
   ]
  },
  {
   "cell_type": "code",
   "execution_count": 2,
   "metadata": {},
   "outputs": [
    {
     "name": "stdout",
     "output_type": "stream",
     "text": [
      "Collecting Roboflow\n",
      "  Downloading roboflow-1.1.34-py3-none-any.whl.metadata (9.5 kB)\n",
      "Requirement already satisfied: certifi in /Users/sriramsohan/miniforge3/envs/Tennis_analysis_env/lib/python3.8/site-packages (from Roboflow) (2024.7.4)\n",
      "Collecting chardet==4.0.0 (from Roboflow)\n",
      "  Downloading chardet-4.0.0-py2.py3-none-any.whl.metadata (3.5 kB)\n",
      "Requirement already satisfied: idna==3.7 in /Users/sriramsohan/miniforge3/envs/Tennis_analysis_env/lib/python3.8/site-packages (from Roboflow) (3.7)\n",
      "Requirement already satisfied: cycler in /Users/sriramsohan/miniforge3/envs/Tennis_analysis_env/lib/python3.8/site-packages (from Roboflow) (0.12.1)\n",
      "Requirement already satisfied: kiwisolver>=1.3.1 in /Users/sriramsohan/miniforge3/envs/Tennis_analysis_env/lib/python3.8/site-packages (from Roboflow) (1.4.5)\n",
      "Requirement already satisfied: matplotlib in /Users/sriramsohan/miniforge3/envs/Tennis_analysis_env/lib/python3.8/site-packages (from Roboflow) (3.7.3)\n",
      "Requirement already satisfied: numpy>=1.18.5 in /Users/sriramsohan/miniforge3/envs/Tennis_analysis_env/lib/python3.8/site-packages (from Roboflow) (1.22.4)\n",
      "Collecting opencv-python-headless==4.10.0.84 (from Roboflow)\n",
      "  Downloading opencv_python_headless-4.10.0.84-cp37-abi3-macosx_11_0_arm64.whl.metadata (20 kB)\n",
      "Requirement already satisfied: Pillow>=7.1.2 in /Users/sriramsohan/miniforge3/envs/Tennis_analysis_env/lib/python3.8/site-packages (from Roboflow) (9.2.0)\n",
      "Requirement already satisfied: python-dateutil in /Users/sriramsohan/miniforge3/envs/Tennis_analysis_env/lib/python3.8/site-packages (from Roboflow) (2.9.0)\n",
      "Collecting python-dotenv (from Roboflow)\n",
      "  Downloading python_dotenv-1.0.1-py3-none-any.whl.metadata (23 kB)\n",
      "Requirement already satisfied: requests in /Users/sriramsohan/miniforge3/envs/Tennis_analysis_env/lib/python3.8/site-packages (from Roboflow) (2.32.3)\n",
      "Requirement already satisfied: six in /Users/sriramsohan/miniforge3/envs/Tennis_analysis_env/lib/python3.8/site-packages (from Roboflow) (1.16.0)\n",
      "Requirement already satisfied: urllib3>=1.26.6 in /Users/sriramsohan/miniforge3/envs/Tennis_analysis_env/lib/python3.8/site-packages (from Roboflow) (2.2.2)\n",
      "Requirement already satisfied: tqdm>=4.41.0 in /Users/sriramsohan/miniforge3/envs/Tennis_analysis_env/lib/python3.8/site-packages (from Roboflow) (4.66.4)\n",
      "Requirement already satisfied: PyYAML>=5.3.1 in /Users/sriramsohan/miniforge3/envs/Tennis_analysis_env/lib/python3.8/site-packages (from Roboflow) (6.0.1)\n",
      "Collecting requests-toolbelt (from Roboflow)\n",
      "  Downloading requests_toolbelt-1.0.0-py2.py3-none-any.whl.metadata (14 kB)\n",
      "Collecting python-magic (from Roboflow)\n",
      "  Downloading python_magic-0.4.27-py2.py3-none-any.whl.metadata (5.8 kB)\n",
      "Requirement already satisfied: contourpy>=1.0.1 in /Users/sriramsohan/miniforge3/envs/Tennis_analysis_env/lib/python3.8/site-packages (from matplotlib->Roboflow) (1.1.1)\n",
      "Requirement already satisfied: fonttools>=4.22.0 in /Users/sriramsohan/miniforge3/envs/Tennis_analysis_env/lib/python3.8/site-packages (from matplotlib->Roboflow) (4.53.1)\n",
      "Requirement already satisfied: packaging>=20.0 in /Users/sriramsohan/miniforge3/envs/Tennis_analysis_env/lib/python3.8/site-packages (from matplotlib->Roboflow) (24.1)\n",
      "Requirement already satisfied: pyparsing>=2.3.1 in /Users/sriramsohan/miniforge3/envs/Tennis_analysis_env/lib/python3.8/site-packages (from matplotlib->Roboflow) (3.1.2)\n",
      "Requirement already satisfied: importlib-resources>=3.2.0 in /Users/sriramsohan/miniforge3/envs/Tennis_analysis_env/lib/python3.8/site-packages (from matplotlib->Roboflow) (6.4.0)\n",
      "Requirement already satisfied: charset-normalizer<4,>=2 in /Users/sriramsohan/miniforge3/envs/Tennis_analysis_env/lib/python3.8/site-packages (from requests->Roboflow) (3.3.2)\n",
      "Requirement already satisfied: zipp>=3.1.0 in /Users/sriramsohan/miniforge3/envs/Tennis_analysis_env/lib/python3.8/site-packages (from importlib-resources>=3.2.0->matplotlib->Roboflow) (3.19.2)\n",
      "Downloading roboflow-1.1.34-py3-none-any.whl (76 kB)\n",
      "\u001b[2K   \u001b[90m━━━━━━━━━━━━━━━━━━━━━━━━━━━━━━━━━━━━━━━━\u001b[0m \u001b[32m76.2/76.2 kB\u001b[0m \u001b[31m5.4 MB/s\u001b[0m eta \u001b[36m0:00:00\u001b[0m\n",
      "\u001b[?25hDownloading chardet-4.0.0-py2.py3-none-any.whl (178 kB)\n",
      "\u001b[2K   \u001b[90m━━━━━━━━━━━━━━━━━━━━━━━━━━━━━━━━━━━━━━━━\u001b[0m \u001b[32m178.7/178.7 kB\u001b[0m \u001b[31m13.1 MB/s\u001b[0m eta \u001b[36m0:00:00\u001b[0m\n",
      "\u001b[?25hDownloading opencv_python_headless-4.10.0.84-cp37-abi3-macosx_11_0_arm64.whl (54.8 MB)\n",
      "\u001b[2K   \u001b[90m━━━━━━━━━━━━━━━━━━━━━━━━━━━━━━━━━━━━━━━━\u001b[0m \u001b[32m54.8/54.8 MB\u001b[0m \u001b[31m17.8 MB/s\u001b[0m eta \u001b[36m0:00:00\u001b[0m00:01\u001b[0m00:01\u001b[0m\n",
      "\u001b[?25hDownloading python_dotenv-1.0.1-py3-none-any.whl (19 kB)\n",
      "Downloading python_magic-0.4.27-py2.py3-none-any.whl (13 kB)\n",
      "Downloading requests_toolbelt-1.0.0-py2.py3-none-any.whl (54 kB)\n",
      "\u001b[2K   \u001b[90m━━━━━━━━━━━━━━━━━━━━━━━━━━━━━━━━━━━━━━━━\u001b[0m \u001b[32m54.5/54.5 kB\u001b[0m \u001b[31m7.2 MB/s\u001b[0m eta \u001b[36m0:00:00\u001b[0m\n",
      "\u001b[?25hInstalling collected packages: python-magic, python-dotenv, opencv-python-headless, chardet, requests-toolbelt, Roboflow\n",
      "Successfully installed Roboflow-1.1.34 chardet-4.0.0 opencv-python-headless-4.10.0.84 python-dotenv-1.0.1 python-magic-0.4.27 requests-toolbelt-1.0.0\n",
      "Note: you may need to restart the kernel to use updated packages.\n"
     ]
    }
   ],
   "source": [
    "pip install Roboflow\n"
   ]
  },
  {
   "cell_type": "code",
   "execution_count": 3,
   "metadata": {},
   "outputs": [
    {
     "name": "stdout",
     "output_type": "stream",
     "text": [
      "Requirement already satisfied: ultralytics in /Users/sriramsohan/miniforge3/envs/Tennis_analysis_env/lib/python3.8/site-packages (8.2.51)\n",
      "Collecting numpy<2.0.0,>=1.23.0 (from ultralytics)\n",
      "  Using cached numpy-1.24.4-cp38-cp38-macosx_11_0_arm64.whl.metadata (5.6 kB)\n",
      "Requirement already satisfied: matplotlib>=3.3.0 in /Users/sriramsohan/miniforge3/envs/Tennis_analysis_env/lib/python3.8/site-packages (from ultralytics) (3.7.3)\n",
      "Requirement already satisfied: opencv-python>=4.6.0 in /Users/sriramsohan/miniforge3/envs/Tennis_analysis_env/lib/python3.8/site-packages (from ultralytics) (4.6.0)\n",
      "Requirement already satisfied: pillow>=7.1.2 in /Users/sriramsohan/miniforge3/envs/Tennis_analysis_env/lib/python3.8/site-packages (from ultralytics) (9.2.0)\n",
      "Requirement already satisfied: pyyaml>=5.3.1 in /Users/sriramsohan/miniforge3/envs/Tennis_analysis_env/lib/python3.8/site-packages (from ultralytics) (6.0.1)\n",
      "Requirement already satisfied: requests>=2.23.0 in /Users/sriramsohan/miniforge3/envs/Tennis_analysis_env/lib/python3.8/site-packages (from ultralytics) (2.32.3)\n",
      "Requirement already satisfied: scipy>=1.4.1 in /Users/sriramsohan/miniforge3/envs/Tennis_analysis_env/lib/python3.8/site-packages (from ultralytics) (1.10.1)\n",
      "Requirement already satisfied: torch>=1.8.0 in /Users/sriramsohan/miniforge3/envs/Tennis_analysis_env/lib/python3.8/site-packages (from ultralytics) (2.3.1)\n",
      "Requirement already satisfied: torchvision>=0.9.0 in /Users/sriramsohan/miniforge3/envs/Tennis_analysis_env/lib/python3.8/site-packages (from ultralytics) (0.18.1)\n",
      "Requirement already satisfied: tqdm>=4.64.0 in /Users/sriramsohan/miniforge3/envs/Tennis_analysis_env/lib/python3.8/site-packages (from ultralytics) (4.66.4)\n",
      "Requirement already satisfied: psutil in /Users/sriramsohan/miniforge3/envs/Tennis_analysis_env/lib/python3.8/site-packages (from ultralytics) (6.0.0)\n",
      "Requirement already satisfied: py-cpuinfo in /Users/sriramsohan/miniforge3/envs/Tennis_analysis_env/lib/python3.8/site-packages (from ultralytics) (9.0.0)\n",
      "Requirement already satisfied: pandas>=1.1.4 in /Users/sriramsohan/miniforge3/envs/Tennis_analysis_env/lib/python3.8/site-packages (from ultralytics) (2.0.3)\n",
      "Requirement already satisfied: seaborn>=0.11.0 in /Users/sriramsohan/miniforge3/envs/Tennis_analysis_env/lib/python3.8/site-packages (from ultralytics) (0.13.2)\n",
      "Requirement already satisfied: ultralytics-thop>=2.0.0 in /Users/sriramsohan/miniforge3/envs/Tennis_analysis_env/lib/python3.8/site-packages (from ultralytics) (2.0.0)\n",
      "Requirement already satisfied: contourpy>=1.0.1 in /Users/sriramsohan/miniforge3/envs/Tennis_analysis_env/lib/python3.8/site-packages (from matplotlib>=3.3.0->ultralytics) (1.1.1)\n",
      "Requirement already satisfied: cycler>=0.10 in /Users/sriramsohan/miniforge3/envs/Tennis_analysis_env/lib/python3.8/site-packages (from matplotlib>=3.3.0->ultralytics) (0.12.1)\n",
      "Requirement already satisfied: fonttools>=4.22.0 in /Users/sriramsohan/miniforge3/envs/Tennis_analysis_env/lib/python3.8/site-packages (from matplotlib>=3.3.0->ultralytics) (4.53.1)\n",
      "Requirement already satisfied: kiwisolver>=1.0.1 in /Users/sriramsohan/miniforge3/envs/Tennis_analysis_env/lib/python3.8/site-packages (from matplotlib>=3.3.0->ultralytics) (1.4.5)\n",
      "Requirement already satisfied: packaging>=20.0 in /Users/sriramsohan/miniforge3/envs/Tennis_analysis_env/lib/python3.8/site-packages (from matplotlib>=3.3.0->ultralytics) (24.1)\n",
      "Requirement already satisfied: pyparsing>=2.3.1 in /Users/sriramsohan/miniforge3/envs/Tennis_analysis_env/lib/python3.8/site-packages (from matplotlib>=3.3.0->ultralytics) (3.1.2)\n",
      "Requirement already satisfied: python-dateutil>=2.7 in /Users/sriramsohan/miniforge3/envs/Tennis_analysis_env/lib/python3.8/site-packages (from matplotlib>=3.3.0->ultralytics) (2.9.0)\n",
      "Requirement already satisfied: importlib-resources>=3.2.0 in /Users/sriramsohan/miniforge3/envs/Tennis_analysis_env/lib/python3.8/site-packages (from matplotlib>=3.3.0->ultralytics) (6.4.0)\n",
      "Requirement already satisfied: pytz>=2020.1 in /Users/sriramsohan/miniforge3/envs/Tennis_analysis_env/lib/python3.8/site-packages (from pandas>=1.1.4->ultralytics) (2024.1)\n",
      "Requirement already satisfied: tzdata>=2022.1 in /Users/sriramsohan/miniforge3/envs/Tennis_analysis_env/lib/python3.8/site-packages (from pandas>=1.1.4->ultralytics) (2024.1)\n",
      "Requirement already satisfied: charset-normalizer<4,>=2 in /Users/sriramsohan/miniforge3/envs/Tennis_analysis_env/lib/python3.8/site-packages (from requests>=2.23.0->ultralytics) (3.3.2)\n",
      "Requirement already satisfied: idna<4,>=2.5 in /Users/sriramsohan/miniforge3/envs/Tennis_analysis_env/lib/python3.8/site-packages (from requests>=2.23.0->ultralytics) (3.7)\n",
      "Requirement already satisfied: urllib3<3,>=1.21.1 in /Users/sriramsohan/miniforge3/envs/Tennis_analysis_env/lib/python3.8/site-packages (from requests>=2.23.0->ultralytics) (2.2.2)\n",
      "Requirement already satisfied: certifi>=2017.4.17 in /Users/sriramsohan/miniforge3/envs/Tennis_analysis_env/lib/python3.8/site-packages (from requests>=2.23.0->ultralytics) (2024.7.4)\n",
      "Requirement already satisfied: filelock in /Users/sriramsohan/miniforge3/envs/Tennis_analysis_env/lib/python3.8/site-packages (from torch>=1.8.0->ultralytics) (3.15.4)\n",
      "Requirement already satisfied: typing-extensions>=4.8.0 in /Users/sriramsohan/miniforge3/envs/Tennis_analysis_env/lib/python3.8/site-packages (from torch>=1.8.0->ultralytics) (4.12.2)\n",
      "Requirement already satisfied: sympy in /Users/sriramsohan/miniforge3/envs/Tennis_analysis_env/lib/python3.8/site-packages (from torch>=1.8.0->ultralytics) (1.12.1)\n",
      "Requirement already satisfied: networkx in /Users/sriramsohan/miniforge3/envs/Tennis_analysis_env/lib/python3.8/site-packages (from torch>=1.8.0->ultralytics) (3.1)\n",
      "Requirement already satisfied: jinja2 in /Users/sriramsohan/miniforge3/envs/Tennis_analysis_env/lib/python3.8/site-packages (from torch>=1.8.0->ultralytics) (3.1.4)\n",
      "Requirement already satisfied: fsspec in /Users/sriramsohan/miniforge3/envs/Tennis_analysis_env/lib/python3.8/site-packages (from torch>=1.8.0->ultralytics) (2024.6.1)\n",
      "Requirement already satisfied: zipp>=3.1.0 in /Users/sriramsohan/miniforge3/envs/Tennis_analysis_env/lib/python3.8/site-packages (from importlib-resources>=3.2.0->matplotlib>=3.3.0->ultralytics) (3.19.2)\n",
      "Requirement already satisfied: six>=1.5 in /Users/sriramsohan/miniforge3/envs/Tennis_analysis_env/lib/python3.8/site-packages (from python-dateutil>=2.7->matplotlib>=3.3.0->ultralytics) (1.16.0)\n",
      "Requirement already satisfied: MarkupSafe>=2.0 in /Users/sriramsohan/miniforge3/envs/Tennis_analysis_env/lib/python3.8/site-packages (from jinja2->torch>=1.8.0->ultralytics) (2.1.5)\n",
      "Requirement already satisfied: mpmath<1.4.0,>=1.1.0 in /Users/sriramsohan/miniforge3/envs/Tennis_analysis_env/lib/python3.8/site-packages (from sympy->torch>=1.8.0->ultralytics) (1.3.0)\n",
      "Using cached numpy-1.24.4-cp38-cp38-macosx_11_0_arm64.whl (13.8 MB)\n",
      "Installing collected packages: numpy\n",
      "  Attempting uninstall: numpy\n",
      "    Found existing installation: numpy 1.22.4\n",
      "    Uninstalling numpy-1.22.4:\n",
      "      Successfully uninstalled numpy-1.22.4\n",
      "\u001b[31mERROR: pip's dependency resolver does not currently take into account all the packages that are installed. This behaviour is the source of the following dependency conflicts.\n",
      "tensorflow-macos 2.13.0 requires numpy<=1.24.3,>=1.22, but you have numpy 1.24.4 which is incompatible.\n",
      "tensorflow-macos 2.13.0 requires typing-extensions<4.6.0,>=3.6.6, but you have typing-extensions 4.12.2 which is incompatible.\u001b[0m\u001b[31m\n",
      "\u001b[0mSuccessfully installed numpy-1.24.4\n",
      "Note: you may need to restart the kernel to use updated packages.\n"
     ]
    }
   ],
   "source": [
    "pip install ultralytics"
   ]
  },
  {
   "cell_type": "code",
   "execution_count": 32,
   "metadata": {},
   "outputs": [
    {
     "name": "stdout",
     "output_type": "stream",
     "text": [
      "loading Roboflow workspace...\n",
      "loading Roboflow project...\n",
      "Dataset downloaded to: /Users/sriramsohan/Documents/projects/Tennis_Analysis/training/tennis-ball-detection-6/tennis-ball-detection-6\n"
     ]
    }
   ],
   "source": [
    "\n",
    "\n",
    "from roboflow import Roboflow\n",
    "rf = Roboflow(api_key=\"9S4EmZ1KkW5Wkti1otoB\")\n",
    "project = rf.workspace(\"viren-dhanwani\").project(\"tennis-ball-detection\")\n",
    "version = project.version(6)\n",
    "dataset = version.download(\"yolov5\")\n",
    "print(f\"Dataset downloaded to: {dataset.location}\")\n"
   ]
  },
  {
   "cell_type": "code",
   "execution_count": 5,
   "metadata": {},
   "outputs": [],
   "source": [
    "import shutil"
   ]
  },
  {
   "cell_type": "code",
   "execution_count": 9,
   "metadata": {},
   "outputs": [
    {
     "data": {
      "text/plain": [
       "'tennis-ball-detection-6/tennis-ball-detection-6/vaoid'"
      ]
     },
     "execution_count": 9,
     "metadata": {},
     "output_type": "execute_result"
    }
   ],
   "source": [
    "shutil.move(\"tennis-ball-detection-6/train\",\n",
    "            \"tennis-ball-detection-6/tennis-ball-detection-6/train\",)\n",
    "shutil.move(\"tennis-ball-detection-6/test\",\n",
    "            \"tennis-ball-detection-6/tennis-ball-detection-6/test\",)\n",
    "shutil.move(\"tennis-ball-detection-6/valid\",\n",
    "            \"tennis-ball-detection-6/tennis-ball-detection-6/vaoid\",)"
   ]
  },
  {
   "cell_type": "code",
   "execution_count": null,
   "metadata": {},
   "outputs": [],
   "source": []
  },
  {
   "cell_type": "code",
   "execution_count": null,
   "metadata": {},
   "outputs": [],
   "source": []
  },
  {
   "cell_type": "code",
   "execution_count": null,
   "metadata": {},
   "outputs": [],
   "source": [
    "!yolo task=detect mode=train model=yolov5xu.pt data=/Users/sriramsohan/Documents/projects/Tennis_Analysis/training/tennis-ball-detection-6/data.yaml epochs=100 imgsz=640 device=mps"
   ]
  },
  {
   "cell_type": "code",
   "execution_count": null,
   "metadata": {},
   "outputs": [
    {
     "data": {
      "text/plain": [
       "'/Users/sriramsohan/Documents/projects/Tennis_Analysis/training/tennis-ball-detection-6'"
      ]
     },
     "execution_count": 30,
     "metadata": {},
     "output_type": "execute_result"
    }
   ],
   "source": []
  },
  {
   "cell_type": "code",
   "execution_count": 37,
   "metadata": {},
   "outputs": [
    {
     "name": "stdout",
     "output_type": "stream",
     "text": [
      "Path exists: /Users/sriramsohan/Documents/projects/Tennis_Analysis/training/tennis-ball-detection-6/tennis-ball-detection-6/train/images\n",
      "Path exists: /Users/sriramsohan/Documents/projects/Tennis_Analysis/training/tennis-ball-detection-6/tennis-ball-detection-6/valid/images\n",
      "Path exists: /Users/sriramsohan/Documents/projects/Tennis_Analysis/training/tennis-ball-detection-6/data.yaml\n"
     ]
    }
   ],
   "source": [
    "import os\n",
    "\n",
    "paths = [\n",
    "    '/Users/sriramsohan/Documents/projects/Tennis_Analysis/training/tennis-ball-detection-6/tennis-ball-detection-6/train/images',\n",
    "    '/Users/sriramsohan/Documents/projects/Tennis_Analysis/training/tennis-ball-detection-6/tennis-ball-detection-6/valid/images',\n",
    "    '/Users/sriramsohan/Documents/projects/Tennis_Analysis/training/tennis-ball-detection-6/data.yaml'\n",
    "]\n",
    "\n",
    "for path in paths:\n",
    "    if os.path.exists(path):\n",
    "        print(f\"Path exists: {path}\")\n",
    "    else:\n",
    "        print(f\"Path does not exist: {path}\")"
   ]
  },
  {
   "cell_type": "code",
   "execution_count": null,
   "metadata": {},
   "outputs": [],
   "source": []
  },
  {
   "cell_type": "code",
   "execution_count": null,
   "metadata": {},
   "outputs": [],
   "source": []
  },
  {
   "cell_type": "code",
   "execution_count": null,
   "metadata": {},
   "outputs": [],
   "source": []
  }
 ],
 "metadata": {
  "kernelspec": {
   "display_name": "Tennis_analysis_env",
   "language": "python",
   "name": "python3"
  },
  "language_info": {
   "codemirror_mode": {
    "name": "ipython",
    "version": 3
   },
   "file_extension": ".py",
   "mimetype": "text/x-python",
   "name": "python",
   "nbconvert_exporter": "python",
   "pygments_lexer": "ipython3",
   "version": "3.8.19"
  }
 },
 "nbformat": 4,
 "nbformat_minor": 2
}
